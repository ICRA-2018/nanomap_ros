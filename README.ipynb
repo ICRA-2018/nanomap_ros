{
 "cells": [
  {
   "cell_type": "markdown",
   "metadata": {},
   "source": [
    "# NanoMap\n",
    "## Fast, Uncertainty-Aware Proximity Queries with Lazy Search of Local 3D Data\n",
    "\n",
    "NanoMap is an algorithm and data structure that enables uncertainty-aware proximity queries for planning.\n",
    "\n",
    "---\n",
    "\n",
    "  * [video description](https://www.youtube.com/watch?v=9a0eEscz1Cs)\n",
    "\n",
    "\n",
    "  [![NanoMap](http://img.youtube.com/vi/9a0eEscz1Cs/0.jpg)](https://www.youtube.com/watch?v=9a0eEscz1Cs)\n",
    "  \n",
    "\n",
    "### Features\n",
    "\n",
    "Key features of NanoMap include:\n",
    "- Incorporates frame-specific uncertainty (due to modeled local pose uncertainty) returned along with query point\n",
    "- Query algorithm returns k-nearest-neighbors from most recent view of query point\n",
    "- Updates pose history information 2-4 orders of magnitude faster than fusion-based voxel packages\n",
    "- Particularly fast for low amounts of queries (<10,000)"
   ]
  },
  {
   "cell_type": "markdown",
   "metadata": {},
   "source": [
    "## Testing"
   ]
  },
  {
   "cell_type": "code",
   "execution_count": null,
   "metadata": {},
   "outputs": [],
   "source": [
    "cd ~/catkin_ws\n",
    "catkin_make run_tests_nanomap_ros "
   ]
  },
  {
   "cell_type": "markdown",
   "metadata": {},
   "source": [
    "## Contributors\n",
    "\n",
    "- [Pete Florence](github.com/peteflorence)\n",
    "- [John Carter](github.com/psiorx)\n",
    "- [Jake Ware](github.com/jakeware)\n",
    "- [Russ Tedrake](github.com/RussTedrake)\n",
    "\n",
    "\n",
    "## Contact\n",
    "\n",
    "Contact <peteflo@csail.mit.edu> / [peteflorence.com](http://peteflorence.com) for more information."
   ]
  }
 ],
 "metadata": {
  "kernelspec": {
   "display_name": "Bash",
   "language": "bash",
   "name": "bash"
  },
  "language_info": {
   "codemirror_mode": "shell",
   "file_extension": ".sh",
   "mimetype": "text/x-sh",
   "name": "bash"
  }
 },
 "nbformat": 4,
 "nbformat_minor": 2
}

