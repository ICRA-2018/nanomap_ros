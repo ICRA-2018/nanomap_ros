{
 "cells": [
  {
   "cell_type": "markdown",
   "metadata": {},
   "source": [
    "# NanoMap\n",
    "## Fast, Uncertainty-Aware Proximity Queries with Lazy Search of Local 3D Data\n",
    "\n",
    "NanoMap is an algorithm and data structure that enables uncertainty-aware proximity queries for planning.\n",
    "\n",
    "---\n",
    "\n",
    "  * [video description](https://www.youtube.com/watch?v=9a0eEscz1Cs)\n",
    "\n",
    "\n",
    "  [![NanoMap](http://img.youtube.com/vi/9a0eEscz1Cs/0.jpg)](https://www.youtube.com/watch?v=9a0eEscz1Cs)\n",
    "  \n",
    "\n",
    "### Features\n",
    "\n",
    "Key features of NanoMap include:\n",
    "- Incorporates frame-specific uncertainty (due to modeled local pose uncertainty) returned along with query point\n",
    "- Query algorithm returns k-nearest-neighbors from most recent view of query point\n",
    "- Updates pose history information 2-4 orders of magnitude faster than fusion-based voxel packages\n",
    "- Particularly fast for low amounts of queries (<10,000)\n",
    "\n",
    "### Quickstart"
   ]
  },
  {
   "cell_type": "code",
   "execution_count": null,
   "metadata": {},
   "outputs": [],
   "source": [
    "\tgit clone https://github.com/peteflorence/nanomap_ros.git\n",
    "\tcatkin_make  ## catkin build for catkin_tools, or catkin_make for catkin"
   ]
  },
  {
   "cell_type": "markdown",
   "metadata": {},
   "source": [
    "Reccomend first testing your installation:"
   ]
  },
  {
   "cell_type": "code",
   "execution_count": null,
   "metadata": {},
   "outputs": [],
   "source": [
    "\tcatkin_make run_tests_nanomap_ros"
   ]
  },
  {
   "cell_type": "markdown",
   "metadata": {},
   "source": [
    "Then there are two examples of minimal nodes, one is for benchmarking and performs queries:"
   ]
  },
  {
   "cell_type": "code",
   "execution_count": null,
   "metadata": {},
   "outputs": [],
   "source": [
    "\trosrun nanomap_ros benchmarking_node\n"
   ]
  },
  {
   "cell_type": "markdown",
   "metadata": {},
   "source": [
    "The other shows how to use the `nanomap_visualizer`:"
   ]
  },
  {
   "cell_type": "code",
   "execution_count": null,
   "metadata": {},
   "outputs": [],
   "source": [
    "\trosrun nanomap_ros visualization_node\n"
   ]
  },
  {
   "cell_type": "markdown",
   "metadata": {},
   "source": [
    "### Support\n",
    "\n",
    "This ros node has been tested on:\n",
    "\n",
    "- ROS Kinetic on Ubuntu 16.04\n",
    "- ROS Indigo on Ubuntu 14.04\n",
    "\n",
    "### Benchmarking\n",
    "\n",
    "NanoMap is particularly fast for low amounts of motion planning queries (< ~10,000), due to its low data structure build time.  Fusion-based voxel structures take longer to build but have faster query times, causing them to be faster for > ~10,000 queries.\n",
    "\n",
    "<p align=\"center\">\n",
    "  <img src=\"./docs/n_queries.png\" width=\"450\"/>\n",
    "</p>\n",
    "\n",
    "Nanomap is two to four orders of magnitude faster than these other benchmarked packages at rebuilding its data structure upon receiving updated pose history information.\n",
    "\n",
    "\n",
    "<p align=\"center\">\n",
    "  <img src=\"./docs/n_poses.png\" width=\"450\"/>\n",
    "</p>\n",
    "\n",
    "(On single-core of an Intel Skylake i7.  Error bars are shown as standard error of the mean.  Docker image with all packages buildable inside provided: <https://hub.docker.com/r/flamitdraper/mapping/> )\n",
    "\n",
    "### Required Dependencies\n",
    "\n",
    "- Nanoflann (included as nanoflann_two.hpp)\n",
    "- Eigen\n",
    "- PCL\n",
    "\n",
    "The PCL dependency is minimal.  It only uses the `pcl::PointCloud<pcl::PointXYZ>`; does not use any algorithms.  It would not be hard to replicate this type and remove the PCL dependency.  Would gladly merge that PR, PCL is a fantastic library, but is not really used here.\n",
    "\n",
    "## Without ROS\n",
    "\n",
    "The core of the code has no depdency on ROS.  The only parts that have ROS dependencies are the visualization components, and the example node:\n",
    "\n",
    "- `nanomap_visualizer.h / .cc`\n",
    "- `frustum_visualization.h`\n",
    "- `benchmarking_node.cpp`\n",
    "\n",
    "I have provided this as a ros package since that is how it has been used and tested.  If you would like to use this without ros, it would just need a ros-independent CMakeLists.txt / incorporate into other build system.\n",
    "\n",
    "## Testing"
   ]
  },
  {
   "cell_type": "code",
   "execution_count": null,
   "metadata": {},
   "outputs": [],
   "source": [
    "    catkin_make run_tests_nanomap_ros "
   ]
  },
  {
   "cell_type": "markdown",
   "metadata": {},
   "source": [
    "## Debugging NanoMap\n",
    "\n",
    "The top of `nanomap_types.h` has `#define NANOMAP_DEBUG_PRINT false`.  Changing this to true turns on potentially useful debug prints.\n",
    "\n",
    "A particularly useful debug print is in `NanoMapDebugPrintState()` in `nanomap.cc`.  Often I will turn the first line of this function to `if (1)` in order to print regular status.\n",
    "\n",
    "## Contributors\n",
    "\n",
    "- [Pete Florence](github.com/peteflorence)\n",
    "- [John Carter](github.com/psiorx)\n",
    "- [Jake Ware](github.com/jakeware)\n",
    "- [Russ Tedrake](github.com/RussTedrake)\n",
    "\n",
    "\n",
    "## Contact\n",
    "\n",
    "Contact <peteflo@csail.mit.edu> / [peteflorence.com](http://peteflorence.com) for more information."
   ]
  }
 ],
 "metadata": {},
 "nbformat": 4,
 "nbformat_minor": 2
}
